{
 "cells": [
  {
   "cell_type": "code",
   "execution_count": 1,
   "metadata": {},
   "outputs": [],
   "source": [
    "import pandas as pd\n",
    "import numpy as np"
   ]
  },
  {
   "cell_type": "code",
   "execution_count": 89,
   "metadata": {},
   "outputs": [
    {
     "data": {
      "text/html": [
       "<div>\n",
       "<style scoped>\n",
       "    .dataframe tbody tr th:only-of-type {\n",
       "        vertical-align: middle;\n",
       "    }\n",
       "\n",
       "    .dataframe tbody tr th {\n",
       "        vertical-align: top;\n",
       "    }\n",
       "\n",
       "    .dataframe thead th {\n",
       "        text-align: right;\n",
       "    }\n",
       "</style>\n",
       "<table border=\"1\" class=\"dataframe\">\n",
       "  <thead>\n",
       "    <tr style=\"text-align: right;\">\n",
       "      <th></th>\n",
       "      <th>Unnamed: 0</th>\n",
       "      <th>관객 평점</th>\n",
       "      <th>전문가 평점</th>\n",
       "      <th>동영상</th>\n",
       "      <th>등급</th>\n",
       "      <th>상영 시간</th>\n",
       "      <th>제작 국가</th>\n",
       "      <th>관객수</th>\n",
       "      <th>개봉계절_봄</th>\n",
       "      <th>개봉계절_여름</th>\n",
       "      <th>...</th>\n",
       "      <th>장르_뮤지컬</th>\n",
       "      <th>장르_미스터리</th>\n",
       "      <th>장르_범죄</th>\n",
       "      <th>장르_블랙코미디</th>\n",
       "      <th>장르_서스펜스</th>\n",
       "      <th>장르_스릴러</th>\n",
       "      <th>장르_애니메이션</th>\n",
       "      <th>장르_액션</th>\n",
       "      <th>장르_코미디</th>\n",
       "      <th>장르_판타지</th>\n",
       "    </tr>\n",
       "  </thead>\n",
       "  <tbody>\n",
       "    <tr>\n",
       "      <th>0</th>\n",
       "      <td>0</td>\n",
       "      <td>9.04</td>\n",
       "      <td>6.09</td>\n",
       "      <td>20</td>\n",
       "      <td>15</td>\n",
       "      <td>137.0</td>\n",
       "      <td>1</td>\n",
       "      <td>12186327.0</td>\n",
       "      <td>0</td>\n",
       "      <td>1</td>\n",
       "      <td>...</td>\n",
       "      <td>0</td>\n",
       "      <td>0</td>\n",
       "      <td>0</td>\n",
       "      <td>0</td>\n",
       "      <td>0</td>\n",
       "      <td>0</td>\n",
       "      <td>0</td>\n",
       "      <td>0</td>\n",
       "      <td>0</td>\n",
       "      <td>0</td>\n",
       "    </tr>\n",
       "    <tr>\n",
       "      <th>1</th>\n",
       "      <td>1</td>\n",
       "      <td>7.83</td>\n",
       "      <td>5.92</td>\n",
       "      <td>17</td>\n",
       "      <td>12</td>\n",
       "      <td>139.0</td>\n",
       "      <td>1</td>\n",
       "      <td>8539495.0</td>\n",
       "      <td>0</td>\n",
       "      <td>0</td>\n",
       "      <td>...</td>\n",
       "      <td>0</td>\n",
       "      <td>0</td>\n",
       "      <td>0</td>\n",
       "      <td>0</td>\n",
       "      <td>0</td>\n",
       "      <td>0</td>\n",
       "      <td>0</td>\n",
       "      <td>0</td>\n",
       "      <td>0</td>\n",
       "      <td>1</td>\n",
       "    </tr>\n",
       "    <tr>\n",
       "      <th>2</th>\n",
       "      <td>2</td>\n",
       "      <td>8.27</td>\n",
       "      <td>5.00</td>\n",
       "      <td>17</td>\n",
       "      <td>15</td>\n",
       "      <td>125.0</td>\n",
       "      <td>1</td>\n",
       "      <td>7817446.0</td>\n",
       "      <td>0</td>\n",
       "      <td>0</td>\n",
       "      <td>...</td>\n",
       "      <td>0</td>\n",
       "      <td>0</td>\n",
       "      <td>0</td>\n",
       "      <td>0</td>\n",
       "      <td>0</td>\n",
       "      <td>0</td>\n",
       "      <td>0</td>\n",
       "      <td>1</td>\n",
       "      <td>0</td>\n",
       "      <td>0</td>\n",
       "    </tr>\n",
       "    <tr>\n",
       "      <th>3</th>\n",
       "      <td>3</td>\n",
       "      <td>8.37</td>\n",
       "      <td>7.00</td>\n",
       "      <td>8</td>\n",
       "      <td>12</td>\n",
       "      <td>133.0</td>\n",
       "      <td>0</td>\n",
       "      <td>7258678.0</td>\n",
       "      <td>0</td>\n",
       "      <td>1</td>\n",
       "      <td>...</td>\n",
       "      <td>0</td>\n",
       "      <td>0</td>\n",
       "      <td>0</td>\n",
       "      <td>0</td>\n",
       "      <td>0</td>\n",
       "      <td>0</td>\n",
       "      <td>0</td>\n",
       "      <td>1</td>\n",
       "      <td>0</td>\n",
       "      <td>0</td>\n",
       "    </tr>\n",
       "    <tr>\n",
       "      <th>4</th>\n",
       "      <td>4</td>\n",
       "      <td>9.14</td>\n",
       "      <td>6.00</td>\n",
       "      <td>14</td>\n",
       "      <td>18</td>\n",
       "      <td>121.0</td>\n",
       "      <td>1</td>\n",
       "      <td>6879841.0</td>\n",
       "      <td>0</td>\n",
       "      <td>0</td>\n",
       "      <td>...</td>\n",
       "      <td>0</td>\n",
       "      <td>0</td>\n",
       "      <td>0</td>\n",
       "      <td>0</td>\n",
       "      <td>0</td>\n",
       "      <td>0</td>\n",
       "      <td>0</td>\n",
       "      <td>1</td>\n",
       "      <td>0</td>\n",
       "      <td>0</td>\n",
       "    </tr>\n",
       "  </tbody>\n",
       "</table>\n",
       "<p>5 rows × 30 columns</p>\n",
       "</div>"
      ],
      "text/plain": [
       "   Unnamed: 0  관객 평점  전문가 평점  동영상  등급  상영 시간  제작 국가         관객수  개봉계절_봄  \\\n",
       "0           0   9.04    6.09   20  15  137.0      1  12186327.0       0   \n",
       "1           1   7.83    5.92   17  12  139.0      1   8539495.0       0   \n",
       "2           2   8.27    5.00   17  15  125.0      1   7817446.0       0   \n",
       "3           3   8.37    7.00    8  12  133.0      0   7258678.0       0   \n",
       "4           4   9.14    6.00   14  18  121.0      1   6879841.0       0   \n",
       "\n",
       "   개봉계절_여름  ...  장르_뮤지컬  장르_미스터리  장르_범죄  장르_블랙코미디  장르_서스펜스  장르_스릴러  장르_애니메이션  \\\n",
       "0        1  ...       0        0      0         0        0       0         0   \n",
       "1        0  ...       0        0      0         0        0       0         0   \n",
       "2        0  ...       0        0      0         0        0       0         0   \n",
       "3        1  ...       0        0      0         0        0       0         0   \n",
       "4        0  ...       0        0      0         0        0       0         0   \n",
       "\n",
       "   장르_액션  장르_코미디  장르_판타지  \n",
       "0      0       0       0  \n",
       "1      0       0       1  \n",
       "2      1       0       0  \n",
       "3      1       0       0  \n",
       "4      1       0       0  \n",
       "\n",
       "[5 rows x 30 columns]"
      ]
     },
     "execution_count": 89,
     "metadata": {},
     "output_type": "execute_result"
    }
   ],
   "source": [
    "df = pd.read_csv('data_pre_processed.csv')\n",
    "df.head()"
   ]
  },
  {
   "cell_type": "code",
   "execution_count": 90,
   "metadata": {},
   "outputs": [
    {
     "data": {
      "text/html": [
       "<div>\n",
       "<style scoped>\n",
       "    .dataframe tbody tr th:only-of-type {\n",
       "        vertical-align: middle;\n",
       "    }\n",
       "\n",
       "    .dataframe tbody tr th {\n",
       "        vertical-align: top;\n",
       "    }\n",
       "\n",
       "    .dataframe thead th {\n",
       "        text-align: right;\n",
       "    }\n",
       "</style>\n",
       "<table border=\"1\" class=\"dataframe\">\n",
       "  <thead>\n",
       "    <tr style=\"text-align: right;\">\n",
       "      <th></th>\n",
       "      <th>관객 평점</th>\n",
       "      <th>전문가 평점</th>\n",
       "      <th>동영상</th>\n",
       "      <th>등급</th>\n",
       "      <th>상영 시간</th>\n",
       "      <th>제작 국가</th>\n",
       "      <th>개봉계절_봄</th>\n",
       "      <th>개봉계절_여름</th>\n",
       "      <th>개봉계절_가을</th>\n",
       "      <th>개봉계절_겨울</th>\n",
       "      <th>...</th>\n",
       "      <th>장르_뮤지컬</th>\n",
       "      <th>장르_미스터리</th>\n",
       "      <th>장르_범죄</th>\n",
       "      <th>장르_블랙코미디</th>\n",
       "      <th>장르_서스펜스</th>\n",
       "      <th>장르_스릴러</th>\n",
       "      <th>장르_애니메이션</th>\n",
       "      <th>장르_액션</th>\n",
       "      <th>장르_코미디</th>\n",
       "      <th>장르_판타지</th>\n",
       "    </tr>\n",
       "  </thead>\n",
       "  <tbody>\n",
       "    <tr>\n",
       "      <th>0</th>\n",
       "      <td>9.04</td>\n",
       "      <td>6.09</td>\n",
       "      <td>20</td>\n",
       "      <td>15</td>\n",
       "      <td>137.0</td>\n",
       "      <td>1</td>\n",
       "      <td>0</td>\n",
       "      <td>1</td>\n",
       "      <td>0</td>\n",
       "      <td>0</td>\n",
       "      <td>...</td>\n",
       "      <td>0</td>\n",
       "      <td>0</td>\n",
       "      <td>0</td>\n",
       "      <td>0</td>\n",
       "      <td>0</td>\n",
       "      <td>0</td>\n",
       "      <td>0</td>\n",
       "      <td>0</td>\n",
       "      <td>0</td>\n",
       "      <td>0</td>\n",
       "    </tr>\n",
       "    <tr>\n",
       "      <th>1</th>\n",
       "      <td>7.83</td>\n",
       "      <td>5.92</td>\n",
       "      <td>17</td>\n",
       "      <td>12</td>\n",
       "      <td>139.0</td>\n",
       "      <td>1</td>\n",
       "      <td>0</td>\n",
       "      <td>0</td>\n",
       "      <td>0</td>\n",
       "      <td>1</td>\n",
       "      <td>...</td>\n",
       "      <td>0</td>\n",
       "      <td>0</td>\n",
       "      <td>0</td>\n",
       "      <td>0</td>\n",
       "      <td>0</td>\n",
       "      <td>0</td>\n",
       "      <td>0</td>\n",
       "      <td>0</td>\n",
       "      <td>0</td>\n",
       "      <td>1</td>\n",
       "    </tr>\n",
       "    <tr>\n",
       "      <th>2</th>\n",
       "      <td>8.27</td>\n",
       "      <td>5.00</td>\n",
       "      <td>17</td>\n",
       "      <td>15</td>\n",
       "      <td>125.0</td>\n",
       "      <td>1</td>\n",
       "      <td>0</td>\n",
       "      <td>0</td>\n",
       "      <td>0</td>\n",
       "      <td>1</td>\n",
       "      <td>...</td>\n",
       "      <td>0</td>\n",
       "      <td>0</td>\n",
       "      <td>0</td>\n",
       "      <td>0</td>\n",
       "      <td>0</td>\n",
       "      <td>0</td>\n",
       "      <td>0</td>\n",
       "      <td>1</td>\n",
       "      <td>0</td>\n",
       "      <td>0</td>\n",
       "    </tr>\n",
       "    <tr>\n",
       "      <th>3</th>\n",
       "      <td>8.37</td>\n",
       "      <td>7.00</td>\n",
       "      <td>8</td>\n",
       "      <td>12</td>\n",
       "      <td>133.0</td>\n",
       "      <td>0</td>\n",
       "      <td>0</td>\n",
       "      <td>1</td>\n",
       "      <td>0</td>\n",
       "      <td>0</td>\n",
       "      <td>...</td>\n",
       "      <td>0</td>\n",
       "      <td>0</td>\n",
       "      <td>0</td>\n",
       "      <td>0</td>\n",
       "      <td>0</td>\n",
       "      <td>0</td>\n",
       "      <td>0</td>\n",
       "      <td>1</td>\n",
       "      <td>0</td>\n",
       "      <td>0</td>\n",
       "    </tr>\n",
       "    <tr>\n",
       "      <th>4</th>\n",
       "      <td>9.14</td>\n",
       "      <td>6.00</td>\n",
       "      <td>14</td>\n",
       "      <td>18</td>\n",
       "      <td>121.0</td>\n",
       "      <td>1</td>\n",
       "      <td>0</td>\n",
       "      <td>0</td>\n",
       "      <td>1</td>\n",
       "      <td>0</td>\n",
       "      <td>...</td>\n",
       "      <td>0</td>\n",
       "      <td>0</td>\n",
       "      <td>0</td>\n",
       "      <td>0</td>\n",
       "      <td>0</td>\n",
       "      <td>0</td>\n",
       "      <td>0</td>\n",
       "      <td>1</td>\n",
       "      <td>0</td>\n",
       "      <td>0</td>\n",
       "    </tr>\n",
       "  </tbody>\n",
       "</table>\n",
       "<p>5 rows × 28 columns</p>\n",
       "</div>"
      ],
      "text/plain": [
       "   관객 평점  전문가 평점  동영상  등급  상영 시간  제작 국가  개봉계절_봄  개봉계절_여름  개봉계절_가을  개봉계절_겨울  \\\n",
       "0   9.04    6.09   20  15  137.0      1       0        1        0        0   \n",
       "1   7.83    5.92   17  12  139.0      1       0        0        0        1   \n",
       "2   8.27    5.00   17  15  125.0      1       0        0        0        1   \n",
       "3   8.37    7.00    8  12  133.0      0       0        1        0        0   \n",
       "4   9.14    6.00   14  18  121.0      1       0        0        1        0   \n",
       "\n",
       "   ...  장르_뮤지컬  장르_미스터리  장르_범죄  장르_블랙코미디  장르_서스펜스  장르_스릴러  장르_애니메이션  장르_액션  \\\n",
       "0  ...       0        0      0         0        0       0         0      0   \n",
       "1  ...       0        0      0         0        0       0         0      0   \n",
       "2  ...       0        0      0         0        0       0         0      1   \n",
       "3  ...       0        0      0         0        0       0         0      1   \n",
       "4  ...       0        0      0         0        0       0         0      1   \n",
       "\n",
       "   장르_코미디  장르_판타지  \n",
       "0       0       0  \n",
       "1       0       1  \n",
       "2       0       0  \n",
       "3       0       0  \n",
       "4       0       0  \n",
       "\n",
       "[5 rows x 28 columns]"
      ]
     },
     "execution_count": 90,
     "metadata": {},
     "output_type": "execute_result"
    }
   ],
   "source": [
    "y = df['관객수']\n",
    "X = df.drop(['Unnamed: 0','관객수'],axis = 1)\n",
    "df= df.drop(['Unnamed: 0','관객수'],axis = 1)\n",
    "X.head()"
   ]
  },
  {
   "cell_type": "code",
   "execution_count": 4,
   "metadata": {},
   "outputs": [
    {
     "name": "stdout",
     "output_type": "stream",
     "text": [
      "<class 'pandas.core.frame.DataFrame'>\n",
      "RangeIndex: 297 entries, 0 to 296\n",
      "Data columns (total 28 columns):\n",
      "관객 평점        297 non-null float64\n",
      "전문가 평점       297 non-null float64\n",
      "동영상          297 non-null int64\n",
      "등급           297 non-null int64\n",
      "상영 시간        297 non-null float64\n",
      "제작 국가        297 non-null int64\n",
      "개봉계절_봄       297 non-null int64\n",
      "개봉계절_여름      297 non-null int64\n",
      "개봉계절_가을      297 non-null int64\n",
      "개봉계절_겨울      297 non-null int64\n",
      "요일           297 non-null int64\n",
      "장르_SF        297 non-null int64\n",
      "장르_공포        297 non-null int64\n",
      "장르_느와르       297 non-null int64\n",
      "장르_다큐멘터리     297 non-null int64\n",
      "장르_드라마       297 non-null int64\n",
      "장르_멜로/로맨스    297 non-null int64\n",
      "장르_모험        297 non-null int64\n",
      "장르_뮤지컬       297 non-null int64\n",
      "장르_미스터리      297 non-null int64\n",
      "장르_범죄        297 non-null int64\n",
      "장르_블랙코미디     297 non-null int64\n",
      "장르_서스펜스      297 non-null int64\n",
      "장르_스릴러       297 non-null int64\n",
      "장르_애니메이션     297 non-null int64\n",
      "장르_액션        297 non-null int64\n",
      "장르_코미디       297 non-null int64\n",
      "장르_판타지       297 non-null int64\n",
      "dtypes: float64(3), int64(25)\n",
      "memory usage: 65.0 KB\n"
     ]
    }
   ],
   "source": [
    "X.info()"
   ]
  },
  {
   "cell_type": "code",
   "execution_count": 5,
   "metadata": {},
   "outputs": [],
   "source": [
    "X= X.values"
   ]
  },
  {
   "cell_type": "code",
   "execution_count": 6,
   "metadata": {},
   "outputs": [
    {
     "data": {
      "text/plain": [
       "array([[ 9.04,  6.09, 20.  , ...,  0.  ,  0.  ,  0.  ],\n",
       "       [ 7.83,  5.92, 17.  , ...,  0.  ,  0.  ,  1.  ],\n",
       "       [ 8.27,  5.  , 17.  , ...,  1.  ,  0.  ,  0.  ],\n",
       "       ...,\n",
       "       [ 5.18,  5.8 ,  5.  , ...,  1.  ,  0.  ,  0.  ],\n",
       "       [ 7.85,  5.  ,  5.  , ...,  0.  ,  0.  ,  0.  ],\n",
       "       [ 7.  ,  5.  ,  4.  , ...,  0.  ,  0.  ,  0.  ]])"
      ]
     },
     "execution_count": 6,
     "metadata": {},
     "output_type": "execute_result"
    }
   ],
   "source": [
    "X"
   ]
  },
  {
   "cell_type": "code",
   "execution_count": 7,
   "metadata": {
    "scrolled": true
   },
   "outputs": [
    {
     "data": {
      "text/plain": [
       "0      12186327.0\n",
       "1       8539495.0\n",
       "2       7817446.0\n",
       "3       7258678.0\n",
       "4       6879841.0\n",
       "5       6592151.0\n",
       "6       5653270.0\n",
       "7       5316325.0\n",
       "8       5138193.0\n",
       "9       4945484.0\n",
       "10      4853778.0\n",
       "11      4018035.0\n",
       "12      4014293.0\n",
       "13      3849087.0\n",
       "14      3689325.0\n",
       "15      3653238.0\n",
       "16      3637122.0\n",
       "17      3324861.0\n",
       "18      3279296.0\n",
       "19      3049894.0\n",
       "20      2931897.0\n",
       "21      2788732.0\n",
       "22      2735721.0\n",
       "23      2658589.0\n",
       "24      2614601.0\n",
       "25      2588617.0\n",
       "26      2514943.0\n",
       "27      2451919.0\n",
       "28      2421011.0\n",
       "29      2359174.0\n",
       "          ...    \n",
       "267       22518.0\n",
       "268       21797.0\n",
       "269       20760.0\n",
       "270       20018.0\n",
       "271       19986.0\n",
       "272       19771.0\n",
       "273       19440.0\n",
       "274       19267.0\n",
       "275       18740.0\n",
       "276       18648.0\n",
       "277       18535.0\n",
       "278       18323.0\n",
       "279       18247.0\n",
       "280       18028.0\n",
       "281       17941.0\n",
       "282       17691.0\n",
       "283       17222.0\n",
       "284       16864.0\n",
       "285       16601.0\n",
       "286       16577.0\n",
       "287       16515.0\n",
       "288       16340.0\n",
       "289       16336.0\n",
       "290       15986.0\n",
       "291       15974.0\n",
       "292       15629.0\n",
       "293       14955.0\n",
       "294       14687.0\n",
       "295       14490.0\n",
       "296       14236.0\n",
       "Name: 관객수, Length: 297, dtype: float64"
      ]
     },
     "execution_count": 7,
     "metadata": {},
     "output_type": "execute_result"
    }
   ],
   "source": [
    "y"
   ]
  },
  {
   "cell_type": "markdown",
   "metadata": {},
   "source": [
    "# 흥행 여부 판별(KNN 사용)"
   ]
  },
  {
   "cell_type": "code",
   "execution_count": 8,
   "metadata": {},
   "outputs": [],
   "source": [
    "## Import the Classifier.\n",
    "from sklearn.neighbors import KNeighborsClassifier\n",
    "## Instantiate the model with 2 neighbors. \n",
    "knn = KNeighborsClassifier(n_neighbors=5)\n",
    "## Fit the model on the training data.\n"
   ]
  },
  {
   "cell_type": "code",
   "execution_count": 9,
   "metadata": {},
   "outputs": [
    {
     "data": {
      "text/plain": [
       "array([1, 1, 1, 1, 1, 1, 1, 1, 1, 1, 1, 1, 1, 1, 1, 1, 1, 1, 1, 1, 1, 1,\n",
       "       1, 1, 1, 1, 1, 1, 1, 1, 1, 1, 1, 1, 1, 1, 0, 0, 0, 0, 0, 0, 0, 0,\n",
       "       0, 0, 0, 0, 0, 0, 0, 0, 0, 0, 0, 0, 0, 0, 0, 0, 0, 0, 0, 0, 0, 0,\n",
       "       0, 0, 0, 0, 0, 0, 0, 0, 0, 0, 0, 0, 0, 0, 0, 0, 0, 0, 0, 0, 0, 0,\n",
       "       0, 0, 0, 0, 0, 0, 0, 0, 0, 0, 0, 0, 0, 0, 0, 0, 0, 0, 0, 0, 0, 0,\n",
       "       0, 0, 0, 0, 0, 0, 0, 0, 0, 0, 0, 0, 0, 0, 0, 0, 0, 0, 0, 0, 0, 0,\n",
       "       0, 0, 0, 0, 0, 0, 0, 0, 0, 0, 0, 0, 0, 0, 0, 0, 0, 0, 0, 0, 0, 0,\n",
       "       0, 0, 0, 0, 0, 0, 0, 0, 0, 0, 0, 0, 0, 0, 0, 0, 0, 0, 0, 0, 0, 0,\n",
       "       0, 0, 0, 0, 0, 0, 0, 0, 0, 0, 0, 0, 0, 0, 0, 0, 0, 0, 0, 0, 0, 0,\n",
       "       0, 0, 0, 0, 0, 0, 0, 0, 0, 0, 0, 0, 0, 0, 0, 0, 0, 0, 0, 0, 0, 0,\n",
       "       0, 0, 0, 0, 0, 0, 0, 0, 0, 0, 0, 0, 0, 0, 0, 0, 0, 0, 0, 0, 0, 0,\n",
       "       0, 0, 0, 0, 0, 0, 0, 0, 0, 0, 0, 0, 0, 0, 0, 0, 0, 0, 0, 0, 0, 0,\n",
       "       0, 0, 0, 0, 0, 0, 0, 0, 0, 0, 0, 0, 0, 0, 0, 0, 0, 0, 0, 0, 0, 0,\n",
       "       0, 0, 0, 0, 0, 0, 0, 0, 0, 0, 0])"
      ]
     },
     "execution_count": 9,
     "metadata": {},
     "output_type": "execute_result"
    }
   ],
   "source": [
    "# 관객수 200만명 이상을 기록한 것은 36개 영화로 이 영화들을 흥행했다고 판별 \n",
    "viewer_labels = np.where(y>=2000000, 1, 0)\n",
    "viewer_labels"
   ]
  },
  {
   "cell_type": "code",
   "execution_count": 10,
   "metadata": {},
   "outputs": [],
   "source": [
    "from sklearn.linear_model import LinearRegression\n",
    "from sklearn.model_selection import train_test_split\n",
    "#model = LinearRegression(fit_intercept=False) => intercept를 사용하지 않고자 하는 경우"
   ]
  },
  {
   "cell_type": "code",
   "execution_count": 78,
   "metadata": {},
   "outputs": [],
   "source": [
    "X_train, X_test, y_train, y_test = train_test_split(X, viewer_labels, test_size = 0.3)"
   ]
  },
  {
   "cell_type": "code",
   "execution_count": 79,
   "metadata": {},
   "outputs": [
    {
     "data": {
      "text/plain": [
       "KNeighborsClassifier(algorithm='auto', leaf_size=30, metric='minkowski',\n",
       "           metric_params=None, n_jobs=None, n_neighbors=5, p=2,\n",
       "           weights='uniform')"
      ]
     },
     "execution_count": 79,
     "metadata": {},
     "output_type": "execute_result"
    }
   ],
   "source": [
    "knn.fit(X_train, y_train)"
   ]
  },
  {
   "cell_type": "code",
   "execution_count": 80,
   "metadata": {},
   "outputs": [
    {
     "data": {
      "text/plain": [
       "(207, 28)"
      ]
     },
     "execution_count": 80,
     "metadata": {},
     "output_type": "execute_result"
    }
   ],
   "source": [
    "X_train.shape"
   ]
  },
  {
   "cell_type": "code",
   "execution_count": 81,
   "metadata": {},
   "outputs": [
    {
     "data": {
      "text/plain": [
       "(90, 28)"
      ]
     },
     "execution_count": 81,
     "metadata": {},
     "output_type": "execute_result"
    }
   ],
   "source": [
    "X_test.shape"
   ]
  },
  {
   "cell_type": "code",
   "execution_count": 82,
   "metadata": {},
   "outputs": [],
   "source": [
    "y_pred = knn.predict(X_test)"
   ]
  },
  {
   "cell_type": "code",
   "execution_count": 83,
   "metadata": {},
   "outputs": [],
   "source": [
    "from sklearn.metrics import confusion_matrix"
   ]
  },
  {
   "cell_type": "code",
   "execution_count": 84,
   "metadata": {},
   "outputs": [
    {
     "data": {
      "text/plain": [
       "array([[75,  4],\n",
       "       [ 7,  4]], dtype=int64)"
      ]
     },
     "execution_count": 84,
     "metadata": {},
     "output_type": "execute_result"
    }
   ],
   "source": [
    "confusion_matrix(y_test, y_pred)"
   ]
  },
  {
   "cell_type": "code",
   "execution_count": 85,
   "metadata": {},
   "outputs": [
    {
     "data": {
      "text/plain": [
       "0.8777777777777778"
      ]
     },
     "execution_count": 85,
     "metadata": {},
     "output_type": "execute_result"
    }
   ],
   "source": [
    "knn.score(X_test, y_test)"
   ]
  },
  {
   "cell_type": "markdown",
   "metadata": {},
   "source": [
    "# 선형 회귀 모델"
   ]
  },
  {
   "cell_type": "code",
   "execution_count": 41,
   "metadata": {},
   "outputs": [],
   "source": [
    "X_train, X_test, y_train, y_test = train_test_split(X, y, test_size = 0.3)"
   ]
  },
  {
   "cell_type": "code",
   "execution_count": 42,
   "metadata": {},
   "outputs": [],
   "source": [
    "model = LinearRegression()"
   ]
  },
  {
   "cell_type": "code",
   "execution_count": 43,
   "metadata": {},
   "outputs": [
    {
     "data": {
      "text/plain": [
       "LinearRegression(copy_X=True, fit_intercept=True, n_jobs=None,\n",
       "         normalize=False)"
      ]
     },
     "execution_count": 43,
     "metadata": {},
     "output_type": "execute_result"
    }
   ],
   "source": [
    "model.fit(X_train, y_train)"
   ]
  },
  {
   "cell_type": "code",
   "execution_count": 44,
   "metadata": {},
   "outputs": [
    {
     "data": {
      "text/plain": [
       "0.4131452225796711"
      ]
     },
     "execution_count": 44,
     "metadata": {},
     "output_type": "execute_result"
    }
   ],
   "source": [
    "model.score(X_train,y_train)"
   ]
  },
  {
   "cell_type": "code",
   "execution_count": 45,
   "metadata": {},
   "outputs": [
    {
     "data": {
      "text/plain": [
       "0.38009465440096757"
      ]
     },
     "execution_count": 45,
     "metadata": {},
     "output_type": "execute_result"
    }
   ],
   "source": [
    "model.score(X_test, y_test)"
   ]
  },
  {
   "cell_type": "code",
   "execution_count": 86,
   "metadata": {},
   "outputs": [
    {
     "data": {
      "text/plain": [
       "array([  360207.3286472 ,    -5568.42356013,    83506.91809815,\n",
       "          16809.93220071,    15694.6689608 ,   669332.50906145,\n",
       "         -66975.16627632,   264855.99165458,   -85532.35234425,\n",
       "        -112348.47303401,   353578.61256502,  -141713.38022085,\n",
       "         380910.47655861,   358217.95210001, -1013438.64296341,\n",
       "        -453110.17192615,  -189378.08074315,  -248565.93469717,\n",
       "         312887.62946987,   117841.30750762,    53845.6546839 ,\n",
       "        -100930.31691967,  -776386.83131607,  -305874.05252264,\n",
       "         283802.61688001,   338210.94837874,  -831620.92680223,\n",
       "        2215301.75253258])"
      ]
     },
     "execution_count": 86,
     "metadata": {},
     "output_type": "execute_result"
    }
   ],
   "source": [
    "model.coef_"
   ]
  },
  {
   "cell_type": "code",
   "execution_count": 91,
   "metadata": {},
   "outputs": [
    {
     "data": {
      "text/plain": [
       "Index(['관객 평점', '전문가 평점', '동영상', '등급', '상영 시간', '제작 국가', '개봉계절_봄', '개봉계절_여름',\n",
       "       '개봉계절_가을', '개봉계절_겨울', '요일', '장르_SF', '장르_공포', '장르_느와르', '장르_다큐멘터리',\n",
       "       '장르_드라마', '장르_멜로/로맨스', '장르_모험', '장르_뮤지컬', '장르_미스터리', '장르_범죄',\n",
       "       '장르_블랙코미디', '장르_서스펜스', '장르_스릴러', '장르_애니메이션', '장르_액션', '장르_코미디',\n",
       "       '장르_판타지'],\n",
       "      dtype='object')"
      ]
     },
     "execution_count": 91,
     "metadata": {},
     "output_type": "execute_result"
    }
   ],
   "source": [
    "df.columns"
   ]
  },
  {
   "cell_type": "markdown",
   "metadata": {},
   "source": [
    "# 비선형 회귀"
   ]
  },
  {
   "cell_type": "code",
   "execution_count": 99,
   "metadata": {},
   "outputs": [],
   "source": [
    "from sklearn.preprocessing import PolynomialFeatures\n",
    "polynomial = PolynomialFeatures(degree=2, include_bias=False)"
   ]
  },
  {
   "cell_type": "code",
   "execution_count": 100,
   "metadata": {},
   "outputs": [],
   "source": [
    "X_test_poly = polynomial.fit_transform(X_test)"
   ]
  },
  {
   "cell_type": "code",
   "execution_count": 101,
   "metadata": {},
   "outputs": [],
   "source": [
    "X_train_poly = polynomial.fit_transform(X_train)"
   ]
  },
  {
   "cell_type": "code",
   "execution_count": 102,
   "metadata": {},
   "outputs": [
    {
     "data": {
      "text/plain": [
       "(90, 434)"
      ]
     },
     "execution_count": 102,
     "metadata": {},
     "output_type": "execute_result"
    }
   ],
   "source": [
    "X_test_poly.shape"
   ]
  },
  {
   "cell_type": "code",
   "execution_count": 103,
   "metadata": {},
   "outputs": [
    {
     "data": {
      "text/plain": [
       "LinearRegression(copy_X=True, fit_intercept=True, n_jobs=None,\n",
       "         normalize=False)"
      ]
     },
     "execution_count": 103,
     "metadata": {},
     "output_type": "execute_result"
    }
   ],
   "source": [
    "model_poly = LinearRegression()\n",
    "model_poly.fit(X_train_poly, y_train)"
   ]
  },
  {
   "cell_type": "code",
   "execution_count": 104,
   "metadata": {},
   "outputs": [
    {
     "data": {
      "text/plain": [
       "0.8620774658089224"
      ]
     },
     "execution_count": 104,
     "metadata": {},
     "output_type": "execute_result"
    }
   ],
   "source": [
    "model_poly.score(X_train_poly, y_train)"
   ]
  },
  {
   "cell_type": "code",
   "execution_count": 105,
   "metadata": {},
   "outputs": [
    {
     "data": {
      "text/plain": [
       "-3.6778235991948023"
      ]
     },
     "execution_count": 105,
     "metadata": {},
     "output_type": "execute_result"
    }
   ],
   "source": [
    "y_poly_hat = model_poly.predict(X_test_poly)\n",
    "model_poly.score(X_test_poly, y_test)"
   ]
  },
  {
   "cell_type": "code",
   "execution_count": 1,
   "metadata": {},
   "outputs": [],
   "source": [
    "import xgboost as xgb"
   ]
  },
  {
   "cell_type": "code",
   "execution_count": null,
   "metadata": {},
   "outputs": [],
   "source": []
  }
 ],
 "metadata": {
  "kernelspec": {
   "display_name": "Python 3",
   "language": "python",
   "name": "python3"
  },
  "language_info": {
   "codemirror_mode": {
    "name": "ipython",
    "version": 3
   },
   "file_extension": ".py",
   "mimetype": "text/x-python",
   "name": "python",
   "nbconvert_exporter": "python",
   "pygments_lexer": "ipython3",
   "version": "3.7.3"
  }
 },
 "nbformat": 4,
 "nbformat_minor": 2
}
