{
 "cells": [
  {
   "cell_type": "code",
   "execution_count": 1,
   "metadata": {
    "collapsed": true
   },
   "outputs": [],
   "source": [
    "import pandas as pd\n",
    "import numpy as np"
   ]
  },
  {
   "cell_type": "code",
   "execution_count": 2,
   "metadata": {
    "collapsed": true
   },
   "outputs": [],
   "source": [
    "data = pd.read_csv('iris.csv')\n",
    "data_np = data.values"
   ]
  },
  {
   "cell_type": "code",
   "execution_count": 3,
   "metadata": {},
   "outputs": [
    {
     "data": {
      "text/html": [
       "<div>\n",
       "<style scoped>\n",
       "    .dataframe tbody tr th:only-of-type {\n",
       "        vertical-align: middle;\n",
       "    }\n",
       "\n",
       "    .dataframe tbody tr th {\n",
       "        vertical-align: top;\n",
       "    }\n",
       "\n",
       "    .dataframe thead th {\n",
       "        text-align: right;\n",
       "    }\n",
       "</style>\n",
       "<table border=\"1\" class=\"dataframe\">\n",
       "  <thead>\n",
       "    <tr style=\"text-align: right;\">\n",
       "      <th></th>\n",
       "      <th>sepal_length</th>\n",
       "      <th>sepal_width</th>\n",
       "      <th>petal_length</th>\n",
       "      <th>petal_width</th>\n",
       "      <th>species</th>\n",
       "    </tr>\n",
       "  </thead>\n",
       "  <tbody>\n",
       "    <tr>\n",
       "      <th>0</th>\n",
       "      <td>5.1</td>\n",
       "      <td>3.5</td>\n",
       "      <td>1.4</td>\n",
       "      <td>0.2</td>\n",
       "      <td>setosa</td>\n",
       "    </tr>\n",
       "    <tr>\n",
       "      <th>1</th>\n",
       "      <td>4.9</td>\n",
       "      <td>3.0</td>\n",
       "      <td>1.4</td>\n",
       "      <td>0.2</td>\n",
       "      <td>setosa</td>\n",
       "    </tr>\n",
       "    <tr>\n",
       "      <th>2</th>\n",
       "      <td>4.7</td>\n",
       "      <td>3.2</td>\n",
       "      <td>1.3</td>\n",
       "      <td>0.2</td>\n",
       "      <td>setosa</td>\n",
       "    </tr>\n",
       "    <tr>\n",
       "      <th>3</th>\n",
       "      <td>4.6</td>\n",
       "      <td>3.1</td>\n",
       "      <td>1.5</td>\n",
       "      <td>0.2</td>\n",
       "      <td>setosa</td>\n",
       "    </tr>\n",
       "    <tr>\n",
       "      <th>4</th>\n",
       "      <td>5.0</td>\n",
       "      <td>3.6</td>\n",
       "      <td>1.4</td>\n",
       "      <td>0.2</td>\n",
       "      <td>setosa</td>\n",
       "    </tr>\n",
       "  </tbody>\n",
       "</table>\n",
       "</div>"
      ],
      "text/plain": [
       "   sepal_length  sepal_width  petal_length  petal_width species\n",
       "0           5.1          3.5           1.4          0.2  setosa\n",
       "1           4.9          3.0           1.4          0.2  setosa\n",
       "2           4.7          3.2           1.3          0.2  setosa\n",
       "3           4.6          3.1           1.5          0.2  setosa\n",
       "4           5.0          3.6           1.4          0.2  setosa"
      ]
     },
     "execution_count": 3,
     "metadata": {},
     "output_type": "execute_result"
    }
   ],
   "source": [
    "data.head()"
   ]
  },
  {
   "cell_type": "code",
   "execution_count": 4,
   "metadata": {
    "collapsed": true
   },
   "outputs": [],
   "source": [
    "np.random.shuffle(data_np)"
   ]
  },
  {
   "cell_type": "code",
   "execution_count": 5,
   "metadata": {
    "collapsed": true
   },
   "outputs": [],
   "source": [
    "X = data_np[:,2:-1]"
   ]
  },
  {
   "cell_type": "code",
   "execution_count": 6,
   "metadata": {},
   "outputs": [
    {
     "data": {
      "text/plain": [
       "array([[4.0, 1.0],\n",
       "       [4.0, 1.3],\n",
       "       [5.8, 1.8],\n",
       "       [4.7, 1.4],\n",
       "       [4.9, 2.0],\n",
       "       [1.7, 0.3],\n",
       "       [4.7, 1.6],\n",
       "       [4.5, 1.6],\n",
       "       [4.9, 1.5],\n",
       "       [1.5, 0.3],\n",
       "       [5.9, 2.1],\n",
       "       [1.6, 0.2],\n",
       "       [1.4, 0.3],\n",
       "       [5.1, 2.0],\n",
       "       [6.1, 2.3],\n",
       "       [1.7, 0.5],\n",
       "       [5.6, 2.4],\n",
       "       [1.4, 0.2],\n",
       "       [1.6, 0.2],\n",
       "       [1.4, 0.2],\n",
       "       [4.2, 1.3],\n",
       "       [5.0, 1.5],\n",
       "       [3.0, 1.1],\n",
       "       [5.8, 2.2],\n",
       "       [4.3, 1.3],\n",
       "       [5.7, 2.1],\n",
       "       [5.1, 2.4],\n",
       "       [3.7, 1.0],\n",
       "       [3.8, 1.1],\n",
       "       [5.1, 1.5],\n",
       "       [1.5, 0.1],\n",
       "       [1.4, 0.2],\n",
       "       [5.2, 2.0],\n",
       "       [1.2, 0.2],\n",
       "       [4.7, 1.5],\n",
       "       [3.6, 1.3],\n",
       "       [4.2, 1.5],\n",
       "       [1.5, 0.1],\n",
       "       [4.8, 1.8],\n",
       "       [5.5, 2.1],\n",
       "       [6.0, 2.5],\n",
       "       [4.5, 1.5],\n",
       "       [4.7, 1.4],\n",
       "       [4.2, 1.3],\n",
       "       [4.0, 1.3],\n",
       "       [4.4, 1.4],\n",
       "       [1.9, 0.4],\n",
       "       [1.4, 0.1],\n",
       "       [5.0, 2.0],\n",
       "       [5.6, 2.1],\n",
       "       [1.4, 0.2],\n",
       "       [1.5, 0.4],\n",
       "       [1.5, 0.2],\n",
       "       [1.5, 0.2],\n",
       "       [5.7, 2.3],\n",
       "       [5.3, 1.9],\n",
       "       [1.4, 0.2],\n",
       "       [1.5, 0.2],\n",
       "       [6.9, 2.3],\n",
       "       [1.4, 0.2],\n",
       "       [1.6, 0.2],\n",
       "       [5.9, 2.3],\n",
       "       [1.5, 0.2],\n",
       "       [4.6, 1.5],\n",
       "       [1.4, 0.3],\n",
       "       [1.3, 0.2],\n",
       "       [4.4, 1.2],\n",
       "       [5.4, 2.3],\n",
       "       [1.5, 0.4],\n",
       "       [4.9, 1.8],\n",
       "       [4.8, 1.8],\n",
       "       [4.3, 1.3],\n",
       "       [1.3, 0.3],\n",
       "       [3.5, 1.0],\n",
       "       [1.6, 0.2],\n",
       "       [5.6, 1.4],\n",
       "       [1.0, 0.2],\n",
       "       [4.5, 1.5],\n",
       "       [5.0, 1.9],\n",
       "       [4.1, 1.0],\n",
       "       [4.4, 1.3],\n",
       "       [1.1, 0.1],\n",
       "       [5.1, 1.9],\n",
       "       [4.0, 1.3],\n",
       "       [3.5, 1.0],\n",
       "       [6.6, 2.1],\n",
       "       [4.0, 1.2],\n",
       "       [4.9, 1.8],\n",
       "       [5.6, 1.8],\n",
       "       [5.6, 2.2],\n",
       "       [5.5, 1.8],\n",
       "       [1.5, 0.2],\n",
       "       [1.3, 0.2],\n",
       "       [6.1, 2.5],\n",
       "       [1.3, 0.2],\n",
       "       [1.7, 0.4],\n",
       "       [3.9, 1.2],\n",
       "       [5.4, 2.1],\n",
       "       [1.5, 0.4],\n",
       "       [4.5, 1.3],\n",
       "       [4.5, 1.5],\n",
       "       [5.1, 1.6],\n",
       "       [1.3, 0.3],\n",
       "       [6.3, 1.8],\n",
       "       [4.8, 1.4],\n",
       "       [3.3, 1.0],\n",
       "       [4.2, 1.2],\n",
       "       [5.8, 1.6],\n",
       "       [5.1, 1.9],\n",
       "       [1.5, 0.1],\n",
       "       [6.7, 2.2],\n",
       "       [3.3, 1.0],\n",
       "       [5.7, 2.5],\n",
       "       [5.3, 2.3],\n",
       "       [4.7, 1.2],\n",
       "       [4.1, 1.3],\n",
       "       [5.5, 1.8],\n",
       "       [1.7, 0.2],\n",
       "       [3.9, 1.1],\n",
       "       [4.8, 1.8],\n",
       "       [1.3, 0.2],\n",
       "       [1.5, 0.2],\n",
       "       [1.4, 0.2],\n",
       "       [4.5, 1.5],\n",
       "       [4.6, 1.4],\n",
       "       [1.6, 0.2],\n",
       "       [5.6, 2.4],\n",
       "       [1.6, 0.6],\n",
       "       [1.3, 0.4],\n",
       "       [4.5, 1.5],\n",
       "       [6.1, 1.9],\n",
       "       [1.6, 0.4],\n",
       "       [5.1, 2.3],\n",
       "       [6.0, 1.8],\n",
       "       [1.9, 0.2],\n",
       "       [3.9, 1.4],\n",
       "       [1.5, 0.1],\n",
       "       [4.4, 1.4],\n",
       "       [4.9, 1.5],\n",
       "       [1.4, 0.3],\n",
       "       [1.4, 0.2],\n",
       "       [4.5, 1.7],\n",
       "       [5.0, 1.7],\n",
       "       [1.2, 0.2],\n",
       "       [6.7, 2.0],\n",
       "       [5.2, 2.3],\n",
       "       [4.1, 1.3],\n",
       "       [5.1, 1.8],\n",
       "       [4.6, 1.3],\n",
       "       [6.4, 2.0]], dtype=object)"
      ]
     },
     "execution_count": 6,
     "metadata": {},
     "output_type": "execute_result"
    }
   ],
   "source": [
    "X"
   ]
  },
  {
   "cell_type": "code",
   "execution_count": 7,
   "metadata": {
    "collapsed": true
   },
   "outputs": [],
   "source": [
    "y = data_np[:,-1]"
   ]
  },
  {
   "cell_type": "code",
   "execution_count": 8,
   "metadata": {},
   "outputs": [
    {
     "data": {
      "text/plain": [
       "array(['versicolor', 'versicolor', 'virginica', 'versicolor', 'virginica',\n",
       "       'setosa', 'versicolor', 'versicolor', 'versicolor', 'setosa',\n",
       "       'virginica', 'setosa', 'setosa', 'virginica', 'virginica',\n",
       "       'setosa', 'virginica', 'setosa', 'setosa', 'setosa', 'versicolor',\n",
       "       'virginica', 'versicolor', 'virginica', 'versicolor', 'virginica',\n",
       "       'virginica', 'versicolor', 'versicolor', 'virginica', 'setosa',\n",
       "       'setosa', 'virginica', 'setosa', 'versicolor', 'versicolor',\n",
       "       'versicolor', 'setosa', 'virginica', 'virginica', 'virginica',\n",
       "       'versicolor', 'versicolor', 'versicolor', 'versicolor',\n",
       "       'versicolor', 'setosa', 'setosa', 'virginica', 'virginica',\n",
       "       'setosa', 'setosa', 'setosa', 'setosa', 'virginica', 'virginica',\n",
       "       'setosa', 'setosa', 'virginica', 'setosa', 'setosa', 'virginica',\n",
       "       'setosa', 'versicolor', 'setosa', 'setosa', 'versicolor',\n",
       "       'virginica', 'setosa', 'virginica', 'versicolor', 'versicolor',\n",
       "       'setosa', 'versicolor', 'setosa', 'virginica', 'setosa',\n",
       "       'versicolor', 'virginica', 'versicolor', 'versicolor', 'setosa',\n",
       "       'virginica', 'versicolor', 'versicolor', 'virginica', 'versicolor',\n",
       "       'virginica', 'virginica', 'virginica', 'virginica', 'setosa',\n",
       "       'setosa', 'virginica', 'setosa', 'setosa', 'versicolor',\n",
       "       'virginica', 'setosa', 'versicolor', 'versicolor', 'versicolor',\n",
       "       'setosa', 'virginica', 'versicolor', 'versicolor', 'versicolor',\n",
       "       'virginica', 'virginica', 'setosa', 'virginica', 'versicolor',\n",
       "       'virginica', 'virginica', 'versicolor', 'versicolor', 'virginica',\n",
       "       'setosa', 'versicolor', 'virginica', 'setosa', 'setosa', 'setosa',\n",
       "       'versicolor', 'versicolor', 'setosa', 'virginica', 'setosa',\n",
       "       'setosa', 'versicolor', 'virginica', 'setosa', 'virginica',\n",
       "       'virginica', 'setosa', 'versicolor', 'setosa', 'versicolor',\n",
       "       'versicolor', 'setosa', 'setosa', 'virginica', 'versicolor',\n",
       "       'setosa', 'virginica', 'virginica', 'versicolor', 'virginica',\n",
       "       'versicolor', 'virginica'], dtype=object)"
      ]
     },
     "execution_count": 8,
     "metadata": {},
     "output_type": "execute_result"
    }
   ],
   "source": [
    "y"
   ]
  },
  {
   "cell_type": "code",
   "execution_count": 9,
   "metadata": {
    "collapsed": true
   },
   "outputs": [],
   "source": [
    "from sklearn import preprocessing\n",
    "le = preprocessing.LabelEncoder() # categorical 변수의 값을 숫자로 변환하는데 사용\n",
    "input_classes =['setosa','versicolor','virginica']\n",
    "le.fit(input_classes)\n",
    "y = le.transform(y)"
   ]
  },
  {
   "cell_type": "code",
   "execution_count": 21,
   "metadata": {},
   "outputs": [
    {
     "data": {
      "text/plain": [
       "array([2, 2, 2, 1, 2, 0, 0, 1, 0, 2, 1, 1, 2, 1, 0, 1, 0, 1, 1, 1, 0, 2,\n",
       "       0, 2, 0, 0, 1, 1, 1, 0, 1, 0, 2, 2, 2, 0, 1, 0, 0, 2, 2, 0, 2, 2,\n",
       "       2, 2, 0, 2, 1, 0, 0, 0, 0, 0, 2, 2, 1, 1, 2, 1, 2, 0, 0, 1, 0, 1,\n",
       "       2, 2, 1, 0, 1, 1, 1, 1, 2, 0, 2, 1, 2, 0, 2, 0, 0, 0, 0, 0, 1, 1,\n",
       "       1, 1, 1, 2, 0, 2, 0, 1, 2, 1, 0, 2, 2, 1, 2, 2, 2, 0, 2, 1, 1, 0,\n",
       "       0, 0, 1, 2, 1, 2, 0, 2, 1, 0, 0, 0, 1, 2, 1, 1, 1, 1, 2, 0, 2, 0,\n",
       "       1, 1, 1, 2, 2, 2, 1, 1, 2, 0, 2, 1, 2, 0, 0, 0, 0, 2])"
      ]
     },
     "execution_count": 21,
     "metadata": {},
     "output_type": "execute_result"
    }
   ],
   "source": [
    "y"
   ]
  },
  {
   "cell_type": "code",
   "execution_count": 10,
   "metadata": {
    "collapsed": true
   },
   "outputs": [],
   "source": [
    "from sklearn.model_selection import train_test_split\n",
    "X_train, X_test, y_train, y_test = train_test_split(X, y, test_size = 0.3)"
   ]
  },
  {
   "cell_type": "code",
   "execution_count": 11,
   "metadata": {
    "collapsed": true
   },
   "outputs": [],
   "source": [
    "from sklearn.tree import DecisionTreeClassifier\n",
    "tree_clf=DecisionTreeClassifier(criterion = 'gini')"
   ]
  },
  {
   "cell_type": "code",
   "execution_count": 12,
   "metadata": {
    "collapsed": true
   },
   "outputs": [],
   "source": [
    "from sklearn.model_selection import GridSearchCV\n",
    "tree_params = {\n",
    "    'max_depth' : [2,3,4,5],\n",
    "    'min_samples_split':[2,5,10,15]\n",
    "}"
   ]
  },
  {
   "cell_type": "code",
   "execution_count": 13,
   "metadata": {},
   "outputs": [
    {
     "name": "stderr",
     "output_type": "stream",
     "text": [
      "C:\\Users\\Sang\\Anaconda3\\lib\\site-packages\\sklearn\\model_selection\\_search.py:841: DeprecationWarning: The default of the `iid` parameter will change from True to False in version 0.22 and will be removed in 0.24. This will change numeric results when test-set sizes are unequal.\n",
      "  DeprecationWarning)\n"
     ]
    },
    {
     "data": {
      "text/plain": [
       "GridSearchCV(cv=5, error_score='raise-deprecating',\n",
       "       estimator=DecisionTreeClassifier(class_weight=None, criterion='gini', max_depth=None,\n",
       "            max_features=None, max_leaf_nodes=None,\n",
       "            min_impurity_decrease=0.0, min_impurity_split=None,\n",
       "            min_samples_leaf=1, min_samples_split=2,\n",
       "            min_weight_fraction_leaf=0.0, presort=False, random_state=None,\n",
       "            splitter='best'),\n",
       "       fit_params=None, iid='warn', n_jobs=None,\n",
       "       param_grid={'max_depth': [2, 3, 4, 5], 'min_samples_split': [2, 5, 10, 15]},\n",
       "       pre_dispatch='2*n_jobs', refit=True, return_train_score='warn',\n",
       "       scoring=None, verbose=0)"
      ]
     },
     "execution_count": 13,
     "metadata": {},
     "output_type": "execute_result"
    }
   ],
   "source": [
    "grid_search = GridSearchCV(tree_clf, param_grid=tree_params, cv=5)\n",
    "grid_search.fit(X_train, y_train)"
   ]
  },
  {
   "cell_type": "code",
   "execution_count": 14,
   "metadata": {},
   "outputs": [
    {
     "data": {
      "text/plain": [
       "{'max_depth': 4, 'min_samples_split': 2}"
      ]
     },
     "execution_count": 14,
     "metadata": {},
     "output_type": "execute_result"
    }
   ],
   "source": [
    "grid_search.best_params_\n",
    "# Best hyperparameter의 값들을 return 합니다."
   ]
  },
  {
   "cell_type": "markdown",
   "metadata": {},
   "source": [
    "위의 결과를 보면 max_depth는 4의 값이, min_samples_split은 2의 값이 best인 것을 알수 있습니다."
   ]
  },
  {
   "cell_type": "code",
   "execution_count": 17,
   "metadata": {
    "collapsed": true
   },
   "outputs": [],
   "source": [
    "best_model = grid_search.best_estimator_\n",
    "# Best estimator (모형)을 return합니다. \n",
    "y_preds = best_model.predict(X_test)"
   ]
  },
  {
   "cell_type": "code",
   "execution_count": 16,
   "metadata": {},
   "outputs": [
    {
     "data": {
      "text/plain": [
       "0.9111111111111111"
      ]
     },
     "execution_count": 16,
     "metadata": {},
     "output_type": "execute_result"
    }
   ],
   "source": [
    "from sklearn.metrics import accuracy_score\n",
    "accuracy_score(y_test, y_preds)"
   ]
  }
 ],
 "metadata": {
  "kernelspec": {
   "display_name": "Python 3",
   "language": "python",
   "name": "python3"
  },
  "language_info": {
   "codemirror_mode": {
    "name": "ipython",
    "version": 3
   },
   "file_extension": ".py",
   "mimetype": "text/x-python",
   "name": "python",
   "nbconvert_exporter": "python",
   "pygments_lexer": "ipython3",
   "version": "3.7.3"
  }
 },
 "nbformat": 4,
 "nbformat_minor": 2
}
